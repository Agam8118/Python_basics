{
  "nbformat": 4,
  "nbformat_minor": 0,
  "metadata": {
    "colab": {
      "provenance": [],
      "authorship_tag": "ABX9TyM5coZJy6KjJwa7aB9l/5J5",
      "include_colab_link": true
    },
    "kernelspec": {
      "name": "python3",
      "display_name": "Python 3"
    },
    "language_info": {
      "name": "python"
    }
  },
  "cells": [
    {
      "cell_type": "markdown",
      "metadata": {
        "id": "view-in-github",
        "colab_type": "text"
      },
      "source": [
        "<a href=\"https://colab.research.google.com/github/Agam8118/Python_basics/blob/main/Worksheet2.ipynb\" target=\"_parent\"><img src=\"https://colab.research.google.com/assets/colab-badge.svg\" alt=\"Open In Colab\"/></a>"
      ]
    },
    {
      "cell_type": "code",
      "execution_count": null,
      "metadata": {
        "colab": {
          "base_uri": "https://localhost:8080/"
        },
        "id": "xAevU2Jg4SnP",
        "outputId": "b91fc4ad-b1cc-4275-b5f6-2f98bd91f7a1"
      },
      "outputs": [
        {
          "output_type": "stream",
          "name": "stdout",
          "text": [
            "Worksheet 2\n"
          ]
        }
      ],
      "source": [
        "print(\"Worksheet 2\")"
      ]
    },
    {
      "cell_type": "code",
      "source": [
        "L = [11, 12, 13, 14]\n",
        "L.append(50)\n",
        "L.append(60)\n",
        "print(L)  # Output: [11, 12, 13, 14, 50, 60]\n"
      ],
      "metadata": {
        "colab": {
          "base_uri": "https://localhost:8080/"
        },
        "id": "23fkpVgK4Vu_",
        "outputId": "79038fb0-1663-4432-8388-f937fede860f"
      },
      "execution_count": null,
      "outputs": [
        {
          "output_type": "stream",
          "name": "stdout",
          "text": [
            "[11, 12, 13, 14, 50, 60]\n"
          ]
        }
      ]
    },
    {
      "cell_type": "code",
      "source": [
        "L.remove(11)\n",
        "L.remove(13)\n",
        "print(L)"
      ],
      "metadata": {
        "id": "glWW67sd4j3w",
        "colab": {
          "base_uri": "https://localhost:8080/"
        },
        "outputId": "a30d53fd-2912-46ae-ef1b-9b932f595384"
      },
      "execution_count": null,
      "outputs": [
        {
          "output_type": "stream",
          "name": "stdout",
          "text": [
            "[12, 14, 50, 60]\n"
          ]
        }
      ]
    },
    {
      "cell_type": "code",
      "source": [
        "L.sort()\n",
        "print(L)\n",
        "L.sort(reverse=True)\n",
        "print(L)"
      ],
      "metadata": {
        "colab": {
          "base_uri": "https://localhost:8080/"
        },
        "id": "6ufSM5C4Axip",
        "outputId": "be775e7c-704f-4c49-a51e-797507118839"
      },
      "execution_count": null,
      "outputs": [
        {
          "output_type": "stream",
          "name": "stdout",
          "text": [
            "[12, 14, 50, 60]\n",
            "[60, 50, 14, 12]\n"
          ]
        }
      ]
    },
    {
      "cell_type": "code",
      "source": [
        "found = 14 in L\n",
        "print(found)\n",
        "print(L.index(14))\n",
        "print(L)"
      ],
      "metadata": {
        "colab": {
          "base_uri": "https://localhost:8080/"
        },
        "id": "086mYlLkA8vB",
        "outputId": "aab165de-5309-4972-aa96-89c741c69148"
      },
      "execution_count": null,
      "outputs": [
        {
          "output_type": "stream",
          "name": "stdout",
          "text": [
            "True\n",
            "1\n",
            "[12, 14, 50, 60]\n"
          ]
        }
      ]
    },
    {
      "cell_type": "code",
      "source": [
        "L = [11,12,13,14,50,60]\n",
        "print(len(L))"
      ],
      "metadata": {
        "colab": {
          "base_uri": "https://localhost:8080/"
        },
        "id": "fpiEhHSTCwy6",
        "outputId": "468cc0db-f701-425f-e0dd-31a76395d651"
      },
      "execution_count": null,
      "outputs": [
        {
          "output_type": "stream",
          "name": "stdout",
          "text": [
            "6\n"
          ]
        }
      ]
    },
    {
      "cell_type": "code",
      "source": [
        "sum = 0\n",
        "for i in L:\n",
        "    sum += i\n",
        "print(sum)"
      ],
      "metadata": {
        "colab": {
          "base_uri": "https://localhost:8080/"
        },
        "id": "xEAsHW9vDc6z",
        "outputId": "f492dea6-205b-4816-a64d-5b5b570a4f7b"
      },
      "execution_count": null,
      "outputs": [
        {
          "output_type": "stream",
          "name": "stdout",
          "text": [
            "160\n"
          ]
        }
      ]
    },
    {
      "cell_type": "code",
      "source": [
        "sum = 0\n",
        "for i in L:\n",
        "    if(i%2!=0):\n",
        "      sum += i\n",
        "print(sum)"
      ],
      "metadata": {
        "colab": {
          "base_uri": "https://localhost:8080/"
        },
        "id": "eqlfwHqOD2aq",
        "outputId": "6e3991fc-4910-4d45-8ab4-2143af2f9e7c"
      },
      "execution_count": null,
      "outputs": [
        {
          "output_type": "stream",
          "name": "stdout",
          "text": [
            "24\n"
          ]
        }
      ]
    },
    {
      "cell_type": "code",
      "source": [
        "sum = 0\n",
        "for i in L:\n",
        "    if(i%2==0):\n",
        "      sum += i\n",
        "print(sum)"
      ],
      "metadata": {
        "colab": {
          "base_uri": "https://localhost:8080/"
        },
        "id": "z8YmV1pDEF4F",
        "outputId": "91e49f39-428f-4f8d-8cb1-eb7147bd62ef"
      },
      "execution_count": null,
      "outputs": [
        {
          "output_type": "stream",
          "name": "stdout",
          "text": [
            "136\n"
          ]
        }
      ]
    },
    {
      "cell_type": "code",
      "source": [],
      "metadata": {
        "id": "G6FzTcd0EiJ8"
      },
      "execution_count": null,
      "outputs": []
    },
    {
      "cell_type": "code",
      "source": [
        "L.clear()\n",
        "print(L)  # Output: []"
      ],
      "metadata": {
        "colab": {
          "base_uri": "https://localhost:8080/"
        },
        "id": "b8uziN90FTYu",
        "outputId": "ad050311-9f13-4683-b58d-a28ad24c5463"
      },
      "execution_count": null,
      "outputs": [
        {
          "output_type": "stream",
          "name": "stdout",
          "text": [
            "[]\n"
          ]
        }
      ]
    },
    {
      "cell_type": "code",
      "source": [
        "del(L)"
      ],
      "metadata": {
        "id": "iO5wdpa7FXo6"
      },
      "execution_count": null,
      "outputs": []
    },
    {
      "cell_type": "markdown",
      "source": [
        "Q2\n"
      ],
      "metadata": {
        "id": "zsOgra_gGEQP"
      }
    },
    {
      "cell_type": "code",
      "source": [
        "L = [11,12,13,14,50,60]\n",
        "sum = 0\n",
        "for i in L:\n",
        "    sum += i\n",
        "print(sum)"
      ],
      "metadata": {
        "colab": {
          "base_uri": "https://localhost:8080/"
        },
        "id": "mnhZTJ5uFx_L",
        "outputId": "fdc29cc9-d1e6-42de-c2df-8323c49e0ef7"
      },
      "execution_count": null,
      "outputs": [
        {
          "output_type": "stream",
          "name": "stdout",
          "text": [
            "160\n"
          ]
        }
      ]
    },
    {
      "cell_type": "markdown",
      "source": [
        "Q3\n"
      ],
      "metadata": {
        "id": "P5Jm6I0bJsjE"
      }
    },
    {
      "cell_type": "code",
      "source": [
        "L = [11,12,13,14,50,60]\n",
        "product = 1\n",
        "for i in L:\n",
        "    product *= i\n",
        "print(product)"
      ],
      "metadata": {
        "colab": {
          "base_uri": "https://localhost:8080/"
        },
        "id": "C4-hrMEDGRv3",
        "outputId": "6ee2cdb0-0e64-4314-f6d1-ebb9c81884b9"
      },
      "execution_count": null,
      "outputs": [
        {
          "output_type": "stream",
          "name": "stdout",
          "text": [
            "72072000\n"
          ]
        }
      ]
    },
    {
      "cell_type": "markdown",
      "source": [
        "Q4"
      ],
      "metadata": {
        "id": "9z0AmoNWJwx0"
      }
    },
    {
      "cell_type": "code",
      "source": [
        "def array(x,y,z):\n",
        "  for i in range(x):\n",
        "    for j in range(y):\n",
        "      for k in range(z):\n",
        "        print('*',end = ' ')\n",
        "      print()\n",
        "    print()\n",
        "\n",
        "array(3,4,6)"
      ],
      "metadata": {
        "colab": {
          "base_uri": "https://localhost:8080/"
        },
        "id": "AeIx4ZguGfAM",
        "outputId": "914b3f23-df11-4fea-c249-abb3cb5e829f"
      },
      "execution_count": null,
      "outputs": [
        {
          "output_type": "stream",
          "name": "stdout",
          "text": [
            "* * * * * * \n",
            "* * * * * * \n",
            "* * * * * * \n",
            "* * * * * * \n",
            "\n",
            "* * * * * * \n",
            "* * * * * * \n",
            "* * * * * * \n",
            "* * * * * * \n",
            "\n",
            "* * * * * * \n",
            "* * * * * * \n",
            "* * * * * * \n",
            "* * * * * * \n",
            "\n"
          ]
        }
      ]
    },
    {
      "cell_type": "code",
      "source": [
        "# Function to create a 3D array\n",
        "def generate_3d_array(x, y, z):\n",
        "    return [[[ '*' for _ in range(z)] for _ in range(y)] for _ in range(x)]\n",
        "\n",
        "# Dimensions of the 3D array\n",
        "depth = 3  # 3 layers\n",
        "rows = 4   # 4 rows in each layer\n",
        "cols = 6   # 6 columns in each row\n",
        "\n",
        "# Generate the 3D array\n",
        "array_3d = generate_3d_array(depth, rows, cols)\n",
        "\n",
        "# Print the 3D array\n",
        "for layer in array_3d:\n",
        "    for row in layer:\n",
        "        print(row)\n",
        "    print()  # Print a newline between layers\n"
      ],
      "metadata": {
        "colab": {
          "base_uri": "https://localhost:8080/"
        },
        "id": "FZBomUwUHvY_",
        "outputId": "88dbf640-28bd-49a1-cce8-144b030f76ed"
      },
      "execution_count": null,
      "outputs": [
        {
          "output_type": "stream",
          "name": "stdout",
          "text": [
            "['*', '*', '*', '*', '*', '*']\n",
            "['*', '*', '*', '*', '*', '*']\n",
            "['*', '*', '*', '*', '*', '*']\n",
            "['*', '*', '*', '*', '*', '*']\n",
            "\n",
            "['*', '*', '*', '*', '*', '*']\n",
            "['*', '*', '*', '*', '*', '*']\n",
            "['*', '*', '*', '*', '*', '*']\n",
            "['*', '*', '*', '*', '*', '*']\n",
            "\n",
            "['*', '*', '*', '*', '*', '*']\n",
            "['*', '*', '*', '*', '*', '*']\n",
            "['*', '*', '*', '*', '*', '*']\n",
            "['*', '*', '*', '*', '*', '*']\n",
            "\n"
          ]
        }
      ]
    },
    {
      "cell_type": "markdown",
      "source": [
        "Q5"
      ],
      "metadata": {
        "id": "-g-ViFfyJ5DU"
      }
    },
    {
      "cell_type": "code",
      "source": [
        "D= {1:5.6, 2:7.8, 3:6.6, 4:8.7, 5:7.7}\n",
        "D[8]=8.8\n",
        "print(D)"
      ],
      "metadata": {
        "colab": {
          "base_uri": "https://localhost:8080/"
        },
        "id": "fPTgJqiCH3qM",
        "outputId": "c4b447d4-9b1c-4445-c9a9-b938658e520b"
      },
      "execution_count": null,
      "outputs": [
        {
          "output_type": "stream",
          "name": "stdout",
          "text": [
            "{1: 5.6, 2: 7.8, 3: 6.6, 4: 8.7, 5: 7.7, 8: 8.8}\n"
          ]
        }
      ]
    },
    {
      "cell_type": "code",
      "source": [
        "D.pop(2)\n",
        "print(D)"
      ],
      "metadata": {
        "colab": {
          "base_uri": "https://localhost:8080/"
        },
        "id": "sEeOQUiiIN1B",
        "outputId": "f7bdedc2-eb6a-43ee-9289-36877685df19"
      },
      "execution_count": null,
      "outputs": [
        {
          "output_type": "stream",
          "name": "stdout",
          "text": [
            "{1: 5.6, 3: 6.6, 4: 8.7, 5: 7.7, 8: 8.8}\n"
          ]
        }
      ]
    },
    {
      "cell_type": "code",
      "source": [
        "print(D.get(6))\n",
        "print(D)"
      ],
      "metadata": {
        "colab": {
          "base_uri": "https://localhost:8080/"
        },
        "id": "iLvHzCROIVnz",
        "outputId": "d043c5d2-fb07-4d02-a85b-655381f24a88"
      },
      "execution_count": null,
      "outputs": [
        {
          "output_type": "stream",
          "name": "stdout",
          "text": [
            "None\n",
            "{1: 5.6, 3: 6.6, 4: 8.7, 5: 7.7, 8: 8.8}\n"
          ]
        }
      ]
    },
    {
      "cell_type": "code",
      "source": [
        "key_check = 6\n",
        "if(key_check in D):\n",
        "  print(f\"{key_check} is present\")\n",
        "else:\n",
        "  print(f\"{key_check} is not present\")"
      ],
      "metadata": {
        "colab": {
          "base_uri": "https://localhost:8080/"
        },
        "id": "QfH7MfRmIkPE",
        "outputId": "a71a3629-083d-41bc-82b8-7d1b1cafd0f5"
      },
      "execution_count": null,
      "outputs": [
        {
          "output_type": "stream",
          "name": "stdout",
          "text": [
            "6 is not present\n"
          ]
        }
      ]
    },
    {
      "cell_type": "code",
      "source": [
        "len(D)"
      ],
      "metadata": {
        "colab": {
          "base_uri": "https://localhost:8080/"
        },
        "id": "SG8cjz_MJHEp",
        "outputId": "b600e4ac-2459-42df-aadd-aef79e136b1c"
      },
      "execution_count": null,
      "outputs": [
        {
          "output_type": "execute_result",
          "data": {
            "text/plain": [
              "5"
            ]
          },
          "metadata": {},
          "execution_count": 67
        }
      ]
    },
    {
      "cell_type": "code",
      "source": [
        "D.values\n",
        "sum =0\n",
        "for i in D.values():\n",
        "  sum += i\n",
        "print(sum)"
      ],
      "metadata": {
        "colab": {
          "base_uri": "https://localhost:8080/"
        },
        "id": "iwNL7wXnJOIv",
        "outputId": "c36f3a11-08ea-455b-85fe-663500fbfaec"
      },
      "execution_count": null,
      "outputs": [
        {
          "output_type": "stream",
          "name": "stdout",
          "text": [
            "37.4\n"
          ]
        }
      ]
    },
    {
      "cell_type": "code",
      "source": [
        "D.update({3:7.1})\n",
        "print(D)"
      ],
      "metadata": {
        "colab": {
          "base_uri": "https://localhost:8080/"
        },
        "id": "0_PWVPiDJXDF",
        "outputId": "79ca361d-03f3-4237-f807-6de8f0e3571a"
      },
      "execution_count": null,
      "outputs": [
        {
          "output_type": "stream",
          "name": "stdout",
          "text": [
            "{1: 5.6, 3: 7.1, 4: 8.7, 5: 7.7, 8: 8.8}\n"
          ]
        }
      ]
    },
    {
      "cell_type": "code",
      "source": [
        "D.clear()\n",
        "print(D)"
      ],
      "metadata": {
        "colab": {
          "base_uri": "https://localhost:8080/"
        },
        "id": "YZGd1m-mJjoa",
        "outputId": "cf269b9b-af1c-43bd-9508-bd70369ce98c"
      },
      "execution_count": null,
      "outputs": [
        {
          "output_type": "stream",
          "name": "stdout",
          "text": [
            "{}\n"
          ]
        }
      ]
    },
    {
      "cell_type": "markdown",
      "source": [
        "Q6"
      ],
      "metadata": {
        "id": "B33SU_DHJ7dk"
      }
    },
    {
      "cell_type": "code",
      "source": [
        "S1= {10, 20, 30, 40, 50, 60}\n",
        "S2= {40, 50, 60, 70, 80,90}\n",
        "S1.add(50)\n",
        "S1.add(66)\n",
        "print(S1)"
      ],
      "metadata": {
        "colab": {
          "base_uri": "https://localhost:8080/"
        },
        "id": "Z3ig-wOhJn76",
        "outputId": "20e02c7c-b2bf-4476-8eca-9cd62516e3fe"
      },
      "execution_count": null,
      "outputs": [
        {
          "output_type": "stream",
          "name": "stdout",
          "text": [
            "{50, 66, 20, 40, 10, 60, 30}\n"
          ]
        }
      ]
    },
    {
      "cell_type": "code",
      "source": [
        "S1.remove(10)\n",
        "S1.remove(30)\n",
        "print(S1)"
      ],
      "metadata": {
        "colab": {
          "base_uri": "https://localhost:8080/"
        },
        "id": "jNazkUD_KNBz",
        "outputId": "a128f3b1-712c-4a94-9820-933144d31a38"
      },
      "execution_count": null,
      "outputs": [
        {
          "output_type": "stream",
          "name": "stdout",
          "text": [
            "{50, 66, 20, 40, 60}\n"
          ]
        }
      ]
    },
    {
      "cell_type": "code",
      "source": [
        "found = 40 in S1\n",
        "print(found)"
      ],
      "metadata": {
        "colab": {
          "base_uri": "https://localhost:8080/"
        },
        "id": "DAbDDpazKShJ",
        "outputId": "6a26ad00-622c-438d-c7f4-c84ce2c82f0e"
      },
      "execution_count": null,
      "outputs": [
        {
          "output_type": "stream",
          "name": "stdout",
          "text": [
            "True\n"
          ]
        }
      ]
    },
    {
      "cell_type": "code",
      "source": [
        "union_set = S1|S2\n",
        "print(union_set)"
      ],
      "metadata": {
        "colab": {
          "base_uri": "https://localhost:8080/"
        },
        "id": "o5BxEAKvKhqK",
        "outputId": "dc361fb9-e34c-4bf1-a7cc-c985454b8c1c"
      },
      "execution_count": null,
      "outputs": [
        {
          "output_type": "stream",
          "name": "stdout",
          "text": [
            "{66, 70, 40, 80, 50, 20, 90, 60}\n"
          ]
        }
      ]
    },
    {
      "cell_type": "code",
      "source": [
        "S1.intersection_update(S2)\n",
        "print(S1)"
      ],
      "metadata": {
        "colab": {
          "base_uri": "https://localhost:8080/"
        },
        "id": "YVHbbgoPKz8H",
        "outputId": "94e5d7b7-a7db-4d23-cc33-6a27f2b9593c"
      },
      "execution_count": null,
      "outputs": [
        {
          "output_type": "stream",
          "name": "stdout",
          "text": [
            "{40, 50, 60}\n"
          ]
        }
      ]
    },
    {
      "cell_type": "code",
      "source": [
        "S1.difference(S2)\n",
        "print(S1)"
      ],
      "metadata": {
        "colab": {
          "base_uri": "https://localhost:8080/"
        },
        "id": "_MQ_yBd5MtzE",
        "outputId": "802a1dc7-7333-46bd-c8d5-ededc6605620"
      },
      "execution_count": null,
      "outputs": [
        {
          "output_type": "stream",
          "name": "stdout",
          "text": [
            "set()\n"
          ]
        }
      ]
    },
    {
      "cell_type": "markdown",
      "source": [
        "Q7"
      ],
      "metadata": {
        "id": "DE3lBfi4NDnl"
      }
    },
    {
      "cell_type": "code",
      "source": [
        "for i in range(1,101):\n"
      ],
      "metadata": {
        "id": "tXug7GFtMz9t"
      },
      "execution_count": null,
      "outputs": []
    },
    {
      "cell_type": "code",
      "source": [
        "L = [1,2,5,8,10,13,16,18,25]\n",
        "print(\"Original List= \")\n",
        "for i in L:\n",
        "    print(f\"{i}\", end= \" \")\n",
        "print(\"\\n\")\n",
        "print(\"Numbers divisible by 5 = \")\n",
        "for i in L:\n",
        "    if(i%5==0):\n",
        "        print(f\"{i}\",end = \" \")"
      ],
      "metadata": {
        "colab": {
          "base_uri": "https://localhost:8080/"
        },
        "id": "GJolEwiMhqhd",
        "outputId": "798883e8-c138-404b-a1e9-272e7928a623"
      },
      "execution_count": null,
      "outputs": [
        {
          "output_type": "stream",
          "name": "stdout",
          "text": [
            "Original List= \n",
            "1 2 5 8 10 13 16 18 25 \n",
            "\n",
            "Numbers divisible by 5 = \n",
            "5 10 25 "
          ]
        }
      ]
    },
    {
      "cell_type": "code",
      "source": [
        "a = int(input(\"Enter the number: \"))\n",
        "is_even = False\n",
        "if(a%2==0):\n",
        "    is_even = True\n",
        "if(is_even):\n",
        "    print(\"The entered number is even\")\n",
        "else :\n",
        "  print(\"The entered number is odd\")"
      ],
      "metadata": {
        "colab": {
          "base_uri": "https://localhost:8080/"
        },
        "id": "7_OyB9z2iI6Q",
        "outputId": "402f9432-44b6-48ec-8b19-0f5cfa841c0f"
      },
      "execution_count": null,
      "outputs": [
        {
          "output_type": "stream",
          "name": "stdout",
          "text": [
            "Enter the number: 7\n",
            "The entered number is odd\n"
          ]
        }
      ]
    },
    {
      "cell_type": "code",
      "source": [
        "a = input(\"Enter the string: \")\n",
        "count = a.count(\"Emma\")\n",
        "# for i in a:\n",
        "    # if(i == Emma):\n",
        "      # count+=1\n",
        "print(f\"The substring 'Emma' appears {count} times in the string\")"
      ],
      "metadata": {
        "colab": {
          "base_uri": "https://localhost:8080/"
        },
        "id": "KPYiSUC3jInK",
        "outputId": "c93fe94d-8a9b-44ea-c3b1-c2c21ef1b92e"
      },
      "execution_count": null,
      "outputs": [
        {
          "output_type": "stream",
          "name": "stdout",
          "text": [
            "Enter the string: Emma is sister of Emma and daughter of Emma\n",
            "The substring 'Emma' appears 3 times in the string\n"
          ]
        }
      ]
    },
    {
      "cell_type": "code",
      "source": [
        "a = [1,2,3,4,5,6,7,8,9]\n",
        "b = [11,12,13,14,15,16,17,18,19]\n",
        "c = []\n",
        "for i in a:\n",
        "  if(i%2!=0):\n",
        "    c.append(i)\n",
        "for i in b:\n",
        "  if(i%2==0):\n",
        "    c.append(i)\n",
        "print(c)"
      ],
      "metadata": {
        "colab": {
          "base_uri": "https://localhost:8080/"
        },
        "id": "G-ot1DQYlGzq",
        "outputId": "88ce9683-3bf8-4cb6-a92b-94d93eb77293"
      },
      "execution_count": null,
      "outputs": [
        {
          "output_type": "stream",
          "name": "stdout",
          "text": [
            "[1, 3, 5, 7, 9, 12, 14, 16, 18]\n"
          ]
        }
      ]
    },
    {
      "cell_type": "code",
      "source": [],
      "metadata": {
        "id": "i2SyQNUvmhBn"
      },
      "execution_count": null,
      "outputs": []
    }
  ]
}