{
  "nbformat": 4,
  "nbformat_minor": 0,
  "metadata": {
    "colab": {
      "provenance": [],
      "authorship_tag": "ABX9TyOwvn0rsCvFir0t6rsL0jJH",
      "include_colab_link": true
    },
    "kernelspec": {
      "name": "python3",
      "display_name": "Python 3"
    },
    "language_info": {
      "name": "python"
    }
  },
  "cells": [
    {
      "cell_type": "markdown",
      "metadata": {
        "id": "view-in-github",
        "colab_type": "text"
      },
      "source": [
        "<a href=\"https://colab.research.google.com/github/Agam8118/Python_basics/blob/main/Worksheet4.ipynb\" target=\"_parent\"><img src=\"https://colab.research.google.com/assets/colab-badge.svg\" alt=\"Open In Colab\"/></a>"
      ]
    },
    {
      "cell_type": "code",
      "execution_count": null,
      "metadata": {
        "colab": {
          "base_uri": "https://localhost:8080/"
        },
        "id": "o8ie0LRgPeMw",
        "outputId": "0b7459be-64de-4262-8ab3-387d4eb21a45"
      },
      "outputs": [
        {
          "output_type": "stream",
          "name": "stdout",
          "text": [
            "[[16 21 21  8  7 21 18 19 20 15]]\n"
          ]
        }
      ],
      "source": [
        "#1.1\n",
        "import numpy as np\n",
        "\n",
        "arr = np.random.randint(5,26,(1,10))\n",
        "print(arr)"
      ]
    },
    {
      "cell_type": "code",
      "source": [
        "#1.2\n",
        "arr1 = np.random.randint(10,51,size=(3,4))\n",
        "print(arr1)"
      ],
      "metadata": {
        "colab": {
          "base_uri": "https://localhost:8080/"
        },
        "id": "tU7A8AOCVx21",
        "outputId": "e1306aa6-4c77-43ce-ea8e-cee31d519794"
      },
      "execution_count": null,
      "outputs": [
        {
          "output_type": "stream",
          "name": "stdout",
          "text": [
            "[[21 31 28 28]\n",
            " [12 23 22 38]\n",
            " [18 44 20 49]]\n"
          ]
        }
      ]
    },
    {
      "cell_type": "code",
      "source": [
        "#2.1\n",
        "print(arr.shape)\n",
        "print(arr.size)\n",
        "print(arr.dtype)"
      ],
      "metadata": {
        "colab": {
          "base_uri": "https://localhost:8080/"
        },
        "id": "Qro2UJcfWLa_",
        "outputId": "f474d026-f198-4f81-8ce5-368e8686e893"
      },
      "execution_count": null,
      "outputs": [
        {
          "output_type": "stream",
          "name": "stdout",
          "text": [
            "(1, 10)\n",
            "10\n",
            "int64\n"
          ]
        }
      ]
    },
    {
      "cell_type": "code",
      "source": [
        "#2.2\n",
        "print(arr1.shape)\n",
        "print(arr1.size)\n",
        "print(arr1.dtype)"
      ],
      "metadata": {
        "colab": {
          "base_uri": "https://localhost:8080/"
        },
        "id": "cHQpcBYeXDxc",
        "outputId": "d400a2b0-ba4c-4948-aef1-a634fc2e94ab"
      },
      "execution_count": null,
      "outputs": [
        {
          "output_type": "stream",
          "name": "stdout",
          "text": [
            "(3, 4)\n",
            "12\n",
            "int64\n"
          ]
        }
      ]
    },
    {
      "cell_type": "code",
      "source": [
        "#3.1\n",
        "array1 = np.array([2,4,6,8,10])\n",
        "array2 = np.array([1,3,5,7,9])\n",
        "print(array1)\n",
        "print(array2)"
      ],
      "metadata": {
        "colab": {
          "base_uri": "https://localhost:8080/"
        },
        "id": "74qn_3d5Ywyg",
        "outputId": "6b756cf8-8a81-45f0-bd1c-0bdb51ab72cb"
      },
      "execution_count": null,
      "outputs": [
        {
          "output_type": "stream",
          "name": "stdout",
          "text": [
            "[ 2  4  6  8 10]\n",
            "[1 3 5 7 9]\n"
          ]
        }
      ]
    },
    {
      "cell_type": "code",
      "source": [
        "#3.2\n",
        "print(array1+array2)\n",
        "print(array1-array2)\n",
        "print(array1*array2)\n",
        "print(array1/array2)"
      ],
      "metadata": {
        "colab": {
          "base_uri": "https://localhost:8080/"
        },
        "id": "sP3SrWvT1YuU",
        "outputId": "1a0be245-ba00-43df-c1ce-f82deaba06f5"
      },
      "execution_count": null,
      "outputs": [
        {
          "output_type": "stream",
          "name": "stdout",
          "text": [
            "[ 3  7 11 15 19]\n",
            "[1 1 1 1 1]\n",
            "[ 2 12 30 56 90]\n",
            "[2.         1.33333333 1.2        1.14285714 1.11111111]\n"
          ]
        }
      ]
    },
    {
      "cell_type": "code",
      "source": [
        "#4.1\n",
        "Arrar = np.arange(1,10).reshape(3,3)\n",
        "print(Arrar)"
      ],
      "metadata": {
        "colab": {
          "base_uri": "https://localhost:8080/"
        },
        "id": "OPb6dc0016n9",
        "outputId": "fe14b348-f5d4-47ed-ad25-92f0e7f8e338"
      },
      "execution_count": null,
      "outputs": [
        {
          "output_type": "stream",
          "name": "stdout",
          "text": [
            "[[1 2 3]\n",
            " [4 5 6]\n",
            " [7 8 9]]\n"
          ]
        }
      ]
    },
    {
      "cell_type": "code",
      "source": [
        "#4.2\n",
        "result = Arrar*5\n",
        "print(result)"
      ],
      "metadata": {
        "colab": {
          "base_uri": "https://localhost:8080/"
        },
        "id": "3h0az2IT2TP6",
        "outputId": "bf29ba0b-26e4-4996-9f78-7dd0ad3f94f8"
      },
      "execution_count": null,
      "outputs": [
        {
          "output_type": "stream",
          "name": "stdout",
          "text": [
            "[[ 5 10 15]\n",
            " [20 25 30]\n",
            " [35 40 45]]\n"
          ]
        }
      ]
    },
    {
      "cell_type": "code",
      "source": [
        "#5.1\n",
        "a = np.random.randint(10,26,size=(4,4))\n",
        "print(a)"
      ],
      "metadata": {
        "colab": {
          "base_uri": "https://localhost:8080/"
        },
        "id": "q5CtKKR225OA",
        "outputId": "056dd6bd-cda3-4e0e-c38d-d94244fb5ea5"
      },
      "execution_count": null,
      "outputs": [
        {
          "output_type": "stream",
          "name": "stdout",
          "text": [
            "[[13 19 19 24]\n",
            " [15 14 15 22]\n",
            " [25 14 16 18]\n",
            " [24 25 24 19]]\n"
          ]
        }
      ]
    },
    {
      "cell_type": "code",
      "source": [
        "#5.2\n",
        "print(a[1,0:4])"
      ],
      "metadata": {
        "colab": {
          "base_uri": "https://localhost:8080/"
        },
        "id": "H1jOXjzJ3Jy9",
        "outputId": "2530ab62-6567-4e5b-a531-8f20fe607bd2"
      },
      "execution_count": null,
      "outputs": [
        {
          "output_type": "stream",
          "name": "stdout",
          "text": [
            "[15 14 15 22]\n"
          ]
        }
      ]
    },
    {
      "cell_type": "code",
      "source": [
        "#5.3\n",
        "print(a[0:4,3])"
      ],
      "metadata": {
        "colab": {
          "base_uri": "https://localhost:8080/"
        },
        "id": "kMllXJ7s4UhF",
        "outputId": "403ee86c-d91f-4013-f50e-2a9b3ecbe577"
      },
      "execution_count": null,
      "outputs": [
        {
          "output_type": "stream",
          "name": "stdout",
          "text": [
            "[24 22 18 19]\n"
          ]
        }
      ]
    },
    {
      "cell_type": "code",
      "source": [
        "#6.1\n",
        "ar = np.random.randint(20,40,10)\n",
        "print(ar)"
      ],
      "metadata": {
        "colab": {
          "base_uri": "https://localhost:8080/"
        },
        "id": "gvWHFbMX4gXV",
        "outputId": "505fb847-d46b-4718-fe5d-cadb4aabcc77"
      },
      "execution_count": null,
      "outputs": [
        {
          "output_type": "stream",
          "name": "stdout",
          "text": [
            "[29 36 39 26 34 27 28 23 20 36]\n"
          ]
        }
      ]
    },
    {
      "cell_type": "code",
      "source": [
        "boo = ar>30\n",
        "print(boo)"
      ],
      "metadata": {
        "colab": {
          "base_uri": "https://localhost:8080/"
        },
        "id": "rUeICxG84xcq",
        "outputId": "fc6591ce-fe52-4acf-dc28-22e1b6431435"
      },
      "execution_count": null,
      "outputs": [
        {
          "output_type": "stream",
          "name": "stdout",
          "text": [
            "[False  True  True False  True False False False False  True]\n"
          ]
        }
      ]
    },
    {
      "cell_type": "code",
      "source": [
        "#7.1\n",
        "a = np.random.randint(11,size=(12,))\n",
        "print(a)"
      ],
      "metadata": {
        "colab": {
          "base_uri": "https://localhost:8080/"
        },
        "id": "fbpEOY_g6D1x",
        "outputId": "c40d44d6-c626-4b2f-bd83-2759cf009059"
      },
      "execution_count": null,
      "outputs": [
        {
          "output_type": "stream",
          "name": "stdout",
          "text": [
            "[ 4  3  2  3 10  5  1  6  1  9  7  7]\n"
          ]
        }
      ]
    },
    {
      "cell_type": "code",
      "source": [
        "#7.2\n",
        "a = np.reshape(a,(3,4))\n",
        "print(a)"
      ],
      "metadata": {
        "colab": {
          "base_uri": "https://localhost:8080/"
        },
        "id": "PxL77Teu6f9-",
        "outputId": "8e3a9c2b-fba2-4f19-a1f4-d138a4bc6568"
      },
      "execution_count": null,
      "outputs": [
        {
          "output_type": "stream",
          "name": "stdout",
          "text": [
            "[[ 4  3  2  3]\n",
            " [10  5  1  6]\n",
            " [ 1  9  7  7]]\n"
          ]
        }
      ]
    },
    {
      "cell_type": "code",
      "source": [
        "#8.1\n",
        "matA = np.array([[1,2],[3,4]])\n",
        "matB = np.array([[5,6],[7,8]])\n",
        "print(matA)\n",
        "print(matB)"
      ],
      "metadata": {
        "colab": {
          "base_uri": "https://localhost:8080/"
        },
        "id": "-oHg95U56s-a",
        "outputId": "7656d1eb-ed6e-4746-d984-5fb0f2077a40"
      },
      "execution_count": null,
      "outputs": [
        {
          "output_type": "stream",
          "name": "stdout",
          "text": [
            "[[1 2]\n",
            " [3 4]]\n",
            "[[5 6]\n",
            " [7 8]]\n"
          ]
        }
      ]
    },
    {
      "cell_type": "code",
      "source": [
        "#8.2\n",
        "print(matA*matB)\n",
        "print(matA.dot(matB))\n",
        "print(np.transpose(matA))"
      ],
      "metadata": {
        "colab": {
          "base_uri": "https://localhost:8080/"
        },
        "id": "tSasKgX17BgL",
        "outputId": "5dc38a02-9eac-43cf-89c4-7b24b2f3d0fb"
      },
      "execution_count": null,
      "outputs": [
        {
          "output_type": "stream",
          "name": "stdout",
          "text": [
            "[[ 5 12]\n",
            " [21 32]]\n",
            "[[19 22]\n",
            " [43 50]]\n",
            "[[1 3]\n",
            " [2 4]]\n"
          ]
        }
      ]
    },
    {
      "cell_type": "code",
      "source": [
        "#9.1\n",
        "a = np.random.randint(10,61,(1,15))\n",
        "print(a)"
      ],
      "metadata": {
        "colab": {
          "base_uri": "https://localhost:8080/"
        },
        "id": "rEuAytXp7dAs",
        "outputId": "6a96853d-1fb0-46f0-8f33-e377c7ac205e"
      },
      "execution_count": null,
      "outputs": [
        {
          "output_type": "stream",
          "name": "stdout",
          "text": [
            "[[31 28 57 24 32 22 48 45 51 34 31 22 20 11 17]]\n"
          ]
        }
      ]
    },
    {
      "cell_type": "code",
      "source": [
        "#9.2\n",
        "print(np.mean(a))\n",
        "print(np.median(a))\n",
        "print(np.std(a))"
      ],
      "metadata": {
        "colab": {
          "base_uri": "https://localhost:8080/"
        },
        "id": "LXp6va4Q8PXN",
        "outputId": "c93e0c84-4914-4cdc-b00a-1b6b920e36d3"
      },
      "execution_count": null,
      "outputs": [
        {
          "output_type": "stream",
          "name": "stdout",
          "text": [
            "31.533333333333335\n",
            "31.0\n",
            "12.919580316541076\n"
          ]
        }
      ]
    },
    {
      "cell_type": "code",
      "source": [
        "#10.1\n",
        "A = np.array([[2,1,3],[0,5,6],[7,8,9]])\n",
        "print(A)"
      ],
      "metadata": {
        "colab": {
          "base_uri": "https://localhost:8080/"
        },
        "id": "lYksVl4-8gTF",
        "outputId": "f994671e-6fa8-46aa-e511-a355d980fce0"
      },
      "execution_count": null,
      "outputs": [
        {
          "output_type": "stream",
          "name": "stdout",
          "text": [
            "[[2 1 3]\n",
            " [0 5 6]\n",
            " [7 8 9]]\n"
          ]
        }
      ]
    },
    {
      "cell_type": "code",
      "source": [
        "#10.2\n",
        "print(np.linalg.det(A))\n",
        "print(np.linalg.inv(A))\n",
        "print(np.linalg.eig(A))"
      ],
      "metadata": {
        "colab": {
          "base_uri": "https://localhost:8080/"
        },
        "id": "KfXdlMqO8wG7",
        "outputId": "9af2902d-5b75-4e78-c33e-872d01b5d231"
      },
      "execution_count": null,
      "outputs": [
        {
          "output_type": "stream",
          "name": "stdout",
          "text": [
            "-68.99999999999996\n",
            "[[ 0.04347826 -0.2173913   0.13043478]\n",
            " [-0.60869565  0.04347826  0.17391304]\n",
            " [ 0.50724638  0.13043478 -0.14492754]]\n",
            "EigResult(eigenvalues=array([15.45215427,  2.40475147, -1.85690573]), eigenvectors=array([[-0.22453607, -0.55941438, -0.38300969],\n",
            "       [-0.48513596,  0.7607706 , -0.60830181],\n",
            "       [-0.84511931, -0.3290648 ,  0.69517803]]))\n"
          ]
        }
      ]
    },
    {
      "cell_type": "code",
      "source": [],
      "metadata": {
        "id": "uPKO--_V9ABq"
      },
      "execution_count": null,
      "outputs": []
    }
  ]
}