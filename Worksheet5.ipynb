{
  "nbformat": 4,
  "nbformat_minor": 0,
  "metadata": {
    "colab": {
      "provenance": [],
      "authorship_tag": "ABX9TyNpdZ3D3Seoseaoz9iFvL8N",
      "include_colab_link": true
    },
    "kernelspec": {
      "name": "python3",
      "display_name": "Python 3"
    },
    "language_info": {
      "name": "python"
    }
  },
  "cells": [
    {
      "cell_type": "markdown",
      "metadata": {
        "id": "view-in-github",
        "colab_type": "text"
      },
      "source": [
        "<a href=\"https://colab.research.google.com/github/Agam8118/Python_basics/blob/main/Worksheet5.ipynb\" target=\"_parent\"><img src=\"https://colab.research.google.com/assets/colab-badge.svg\" alt=\"Open In Colab\"/></a>"
      ]
    },
    {
      "cell_type": "code",
      "execution_count": 9,
      "metadata": {
        "colab": {
          "base_uri": "https://localhost:8080/"
        },
        "id": "yyvNLPABa-ZM",
        "outputId": "5c8ed4d0-6a71-4b00-c47c-3a4b7927e1aa"
      },
      "outputs": [
        {
          "output_type": "stream",
          "name": "stdout",
          "text": [
            "[[13 35 32 16 18 24 21 31 34 14]]\n",
            "23.8\n"
          ]
        }
      ],
      "source": [
        "#1\n",
        "import numpy as np\n",
        "from scipy import stats\n",
        "\n",
        "arr = np.random.randint(10,40,(1,10))\n",
        "print(arr)\n",
        "print(stats.tmean(arr))"
      ]
    },
    {
      "cell_type": "code",
      "source": [
        "#2\n",
        "from scipy.fftpack import fft2\n",
        "A = np.random.randint(10,31,(3,3))\n",
        "print(A)\n",
        "print(fft2(A))"
      ],
      "metadata": {
        "id": "tNM7bBtRcNmJ",
        "colab": {
          "base_uri": "https://localhost:8080/"
        },
        "outputId": "51ce3b37-dcd5-46ed-8b9e-f9f729852089"
      },
      "execution_count": 11,
      "outputs": [
        {
          "output_type": "stream",
          "name": "stdout",
          "text": [
            "[[24 29 11]\n",
            " [23 11 11]\n",
            " [22 13 25]]\n",
            "[[169.  -0.j          19.  -5.19615242j  19.  +5.19615242j]\n",
            " [ 11.5+12.99038106j -12.5-28.57883832j   5.5+12.99038106j]\n",
            " [ 11.5-12.99038106j   5.5-12.99038106j -12.5+28.57883832j]]\n"
          ]
        }
      ]
    },
    {
      "cell_type": "code",
      "source": [],
      "metadata": {
        "id": "j5wyHVe6kbR_"
      },
      "execution_count": null,
      "outputs": []
    }
  ]
}