{
  "nbformat": 4,
  "nbformat_minor": 0,
  "metadata": {
    "colab": {
      "provenance": [],
      "authorship_tag": "ABX9TyNRUzATWrbeU2Sjnqdi/mck",
      "include_colab_link": true
    },
    "kernelspec": {
      "name": "python3",
      "display_name": "Python 3"
    },
    "language_info": {
      "name": "python"
    }
  },
  "cells": [
    {
      "cell_type": "markdown",
      "metadata": {
        "id": "view-in-github",
        "colab_type": "text"
      },
      "source": [
        "<a href=\"https://colab.research.google.com/github/Agam8118/Python_basics/blob/main/Worksheet3.ipynb\" target=\"_parent\"><img src=\"https://colab.research.google.com/assets/colab-badge.svg\" alt=\"Open In Colab\"/></a>"
      ]
    },
    {
      "cell_type": "code",
      "execution_count": null,
      "metadata": {
        "id": "Sg5OojSqxxnC",
        "colab": {
          "base_uri": "https://localhost:8080/"
        },
        "outputId": "d7c31da8-ae33-4581-9478-e2de6e8a80ce"
      },
      "outputs": [
        {
          "output_type": "stream",
          "name": "stdout",
          "text": [
            "Enter a number: 20\n",
            "The result is: 6\n"
          ]
        }
      ],
      "source": [
        "#1\n",
        "def difference_from_17(number):\n",
        "    if number > 17:\n",
        "        return 2 * abs(number - 17)\n",
        "    else:\n",
        "        return 17 - number\n",
        "\n",
        "# Example usage\n",
        "number = int(input(\"Enter a number: \"))\n",
        "result = difference_from_17(number)\n",
        "print(\"The result is:\", result)"
      ]
    },
    {
      "cell_type": "code",
      "source": [
        "#2\n",
        "def check_the_number(a):\n",
        "  if(a>=100 & a<=1000):\n",
        "    print(\"The number is between 100 and 1000\")\n",
        "  elif(a>=1000 & a<=2000):\n",
        "    print(\"The number is between 100 and 2000\")\n",
        "  else:\n",
        "    print(\"The number is not between 100 and 2000\")\n",
        "\n",
        "x = int(input(\"Enter the number : \"))\n",
        "check_the_number(x)"
      ],
      "metadata": {
        "colab": {
          "base_uri": "https://localhost:8080/"
        },
        "id": "o8Hkx48n7zxm",
        "outputId": "e0e79bed-de45-469b-8254-13c42762d535"
      },
      "execution_count": null,
      "outputs": [
        {
          "output_type": "stream",
          "name": "stdout",
          "text": [
            "Enter the number : 200\n",
            "The number is between 100 and 1000\n"
          ]
        }
      ]
    },
    {
      "cell_type": "code",
      "source": [
        "#3\n",
        "def rev_string(str):\n",
        "    return str[::-1]\n",
        "\n",
        "a = input(\"Enter the string: \")\n",
        "print(rev_string(a))"
      ],
      "metadata": {
        "colab": {
          "base_uri": "https://localhost:8080/"
        },
        "id": "Gw9u-Bma9D6a",
        "outputId": "ec6be1b4-2661-4de8-bac1-b1eb5f87cda6"
      },
      "execution_count": null,
      "outputs": [
        {
          "output_type": "stream",
          "name": "stdout",
          "text": [
            "Enter the string: hello\n",
            "olleh\n"
          ]
        }
      ]
    },
    {
      "cell_type": "code",
      "source": [
        "#4\n",
        "def check_string(str):\n",
        "  count_lower = 0\n",
        "  count_upper = 0\n",
        "  for char in str:\n",
        "    if char.islower():\n",
        "      count_lower += 1\n",
        "    elif char.isupper():\n",
        "      count_upper += 1\n",
        "\n",
        "  print(f\"The number of lower case lettes is: {count_lower}\")\n",
        "  print(f\"The number of upper case letters is: {count_upper} \")\n",
        "\n",
        "a = input(\"Enter the string: \")\n",
        "check_string(a)"
      ],
      "metadata": {
        "colab": {
          "base_uri": "https://localhost:8080/"
        },
        "id": "sosGKngM9lAW",
        "outputId": "b5733433-7992-449c-f6f2-7566ec37982e"
      },
      "execution_count": null,
      "outputs": [
        {
          "output_type": "stream",
          "name": "stdout",
          "text": [
            "Enter the string: Hello;Agam here\n",
            "The number of lower case lettes is: 11\n",
            "The number of upper case letters is: 2 \n"
          ]
        }
      ]
    },
    {
      "cell_type": "code",
      "source": [
        "#6\n",
        "even_list = []\n",
        "def even_numbers(list):\n",
        "  for i in list:\n",
        "    if(i%2==0):\n",
        "      even_list.append(i)\n",
        "L = [1,2,3,4,5,6,7,8,9,10]\n",
        "even_numbers(L)\n",
        "print(even_list)"
      ],
      "metadata": {
        "colab": {
          "base_uri": "https://localhost:8080/"
        },
        "id": "W_tJLjFUAReh",
        "outputId": "5332e68a-49f4-4f59-ba4b-a4f58a0e7e95"
      },
      "execution_count": null,
      "outputs": [
        {
          "output_type": "stream",
          "name": "stdout",
          "text": [
            "[2, 4, 6, 8, 10]\n"
          ]
        }
      ]
    },
    {
      "cell_type": "code",
      "source": [
        "#7\n",
        "#sum of even numbers of a list using function inside function\n",
        "even_list = []\n",
        "def even_numbers(list):\n",
        "  for i in list:\n",
        "    if(i%2==0):\n",
        "      even_list.append(i)\n",
        "\n",
        "def sum_of_even_list(even_numbers):\n",
        "  sum = 0\n",
        "  for i in even_list:\n",
        "    sum +=i\n",
        "  return sum\n",
        "\n",
        "L = [1,2,3,4,5,6,7,8,9,10]\n",
        "even_numbers(L)\n",
        "print(sum_of_even_list(even_list))"
      ],
      "metadata": {
        "colab": {
          "base_uri": "https://localhost:8080/"
        },
        "id": "euqskJv--jEE",
        "outputId": "a7f12492-a10d-451c-b00a-73e778e66b80"
      },
      "execution_count": null,
      "outputs": [
        {
          "output_type": "stream",
          "name": "stdout",
          "text": [
            "30\n"
          ]
        }
      ]
    },
    {
      "cell_type": "code",
      "source": [
        "# Function to calculate the sum of even numbers in a list\n",
        "def sum_of_even_numbers(numbers):\n",
        "    def is_even(num):\n",
        "        return num % 2 == 0\n",
        "\n",
        "    even_sum = 0\n",
        "    for number in numbers:\n",
        "        if is_even(number):\n",
        "            even_sum += number\n",
        "    return even_sum\n",
        "\n",
        "L = [1, 2, 3, 4, 5, 6, 7, 8, 9, 10]\n",
        "result = sum_of_even_numbers(L)\n",
        "print(\"Sum of even numbers:\", result)\n"
      ],
      "metadata": {
        "colab": {
          "base_uri": "https://localhost:8080/"
        },
        "id": "thdVRC7IB0G-",
        "outputId": "c76b7883-6e33-4f1a-c084-b20f18a2336c"
      },
      "execution_count": null,
      "outputs": [
        {
          "output_type": "stream",
          "name": "stdout",
          "text": [
            "Sum of even numbers: 30\n"
          ]
        }
      ]
    },
    {
      "cell_type": "code",
      "source": [
        "#9\n",
        "class Student:\n",
        "  def __init__(self, student_name,student_id,student_class):\n",
        "    self.student_name = student_name\n",
        "    self.student_id = student_id\n",
        "    self.student_class = student_class\n",
        "\n",
        "  def get_name(self):\n",
        "    return self.student_name\n",
        "\n",
        "  def get_id(self):\n",
        "    return self.student_id\n",
        "\n",
        "Student1 = Student(\"Agam\",3003,14)\n",
        "Student2 = Student(\"ABC\",1234,13)\n",
        "print(Student1.get_name())\n",
        "print(Student2.get_name())\n",
        "print(Student1.get_id())\n",
        "print(Student2.get_id())\n",
        "print(Student1.student_class)\n",
        "print(Student2.student_class)"
      ],
      "metadata": {
        "colab": {
          "base_uri": "https://localhost:8080/"
        },
        "id": "mN4aX0iVCZF-",
        "outputId": "9eebc6e1-3e2c-452c-efb8-e9a31615a021"
      },
      "execution_count": null,
      "outputs": [
        {
          "output_type": "stream",
          "name": "stdout",
          "text": [
            "Agam\n",
            "ABC\n",
            "3003\n",
            "1234\n",
            "14\n",
            "13\n"
          ]
        }
      ]
    },
    {
      "cell_type": "code",
      "source": [
        "#11\n",
        "import math\n",
        "\n",
        "class Circle:\n",
        "  def __init__(self,radius):\n",
        "    self.radius = radius\n",
        "\n",
        "  def perimeter(self):\n",
        "      perimeter = 2*math.pi*self.radius\n",
        "      return perimeter\n",
        "\n",
        "  def area(self):\n",
        "      area = math.pi*self.radius*self.radius\n",
        "      return area\n",
        "\n",
        "Circle1 = Circle(5)\n",
        "print(Circle1.perimeter())\n",
        "print(Circle1.area())"
      ],
      "metadata": {
        "colab": {
          "base_uri": "https://localhost:8080/"
        },
        "id": "2nnGbyNEEYvR",
        "outputId": "2f576af9-31f4-43cc-872d-3fbdac6092f9"
      },
      "execution_count": null,
      "outputs": [
        {
          "output_type": "stream",
          "name": "stdout",
          "text": [
            "31.41592653589793\n",
            "78.53981633974483\n"
          ]
        }
      ]
    },
    {
      "cell_type": "code",
      "source": [
        "#12\n",
        "class String:\n",
        "  def __init__(self):\n",
        "    self.string = \"\"\n",
        "\n",
        "  def get_string(self):\n",
        "    self.string = input(\"Enter the string: \")\n",
        "\n",
        "  def print_string(self):\n",
        "    print(self.string.upper())\n",
        "\n",
        "String1 = String()\n",
        "String1.get_string()\n",
        "String1.print_string()"
      ],
      "metadata": {
        "colab": {
          "base_uri": "https://localhost:8080/"
        },
        "id": "980k1--yH0DM",
        "outputId": "5e23b63a-0d39-485d-b10b-bc3964267cb7"
      },
      "execution_count": null,
      "outputs": [
        {
          "output_type": "stream",
          "name": "stdout",
          "text": [
            "Enter the string: hello\n",
            "HELLO\n"
          ]
        }
      ]
    },
    {
      "cell_type": "code",
      "source": [],
      "metadata": {
        "id": "bD3Kd8yPJsN_"
      },
      "execution_count": null,
      "outputs": []
    }
  ]
}